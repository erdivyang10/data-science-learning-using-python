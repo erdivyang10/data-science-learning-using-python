{
 "cells": [
  {
   "cell_type": "code",
   "execution_count": 2,
   "metadata": {},
   "outputs": [
    {
     "name": "stdout",
     "output_type": "stream",
     "text": [
      "Enter the plugin Price: 59\n",
      "You can Buy: WP Google Maps Pro\n"
     ]
    }
   ],
   "source": [
    "#get plugin according to the price\n",
    "\n",
    "\n",
    "\n",
    "plugins= ['WP Google Maps Pro','User Avatar','Store Locator', 'Ecards Pro', 'Delivery Area Pro','Booking Pop Up']\n",
    "costs = [59,29,25,30,39,19]\n",
    "\n",
    "plugin_price = int(input('Enter the plugin Price: '))\n",
    "\n",
    "if plugin_price <=costs[0] and plugin_price == costs[0]:\n",
    "    print('You can Buy:',plugins[0])\n",
    "    \n",
    "elif plugin_price<=costs[1] and plugin_price == costs[1]:\n",
    "    print('You can Buy:',plugins[1])\n",
    "    \n",
    "elif plugin_price<=costs[2] and plugin_price == costs[2]:\n",
    "    print('You can Buy:',plugins[2])    \n",
    "    \n",
    "elif plugin_price <=costs[3] and plugin_price == costs[3]:\n",
    "    print('You can Buy:',plugins[3]) \n",
    "    \n",
    "elif plugin_price <=costs[4] and plugin_price == costs[4]:\n",
    "    print('You can Buy:',plugins[4])\n",
    "    \n",
    "elif plugin_price <=costs[5] and plugin_price == costs[5]:\n",
    "    print('You can Buy:',plugins[5])         \n",
    "    \n",
    "else:\n",
    "    print('No Plugin found on this price')\n",
    "    \n",
    "\n",
    "    \n",
    "    "
   ]
  },
  {
   "cell_type": "markdown",
   "metadata": {},
   "source": [
    "----"
   ]
  },
  {
   "cell_type": "code",
   "execution_count": 3,
   "metadata": {},
   "outputs": [
    {
     "name": "stdout",
     "output_type": "stream",
     "text": [
      "Enter Your Budget: 60\n",
      "You can Buy: WP Google Maps Pro , User Avatar , Store Locator , Ecards Pro , Delivery Area Pro  Booking Pop Up\n"
     ]
    }
   ],
   "source": [
    "#get plugin according to the price\n",
    "# Display price according to the Budget\n",
    "\n",
    "# 0 google maps pro = 59$\n",
    "# 1 user avatar pro = 29$\n",
    "# 2 Store Locator pro =25$\n",
    "# 3 Ecards pro = 30$\n",
    "# 4 Delivery area pro= 39$\n",
    "# 5 Booking pop up = 19$\n",
    "\n",
    "\n",
    "\n",
    "plugins= ['WP Google Maps Pro','User Avatar','Store Locator', 'Ecards Pro', 'Delivery Area Pro','Booking Pop Up']\n",
    "costs = [59,29,25,30,39,19]\n",
    "\n",
    "plugin_price = int(input('Enter Your Budget: '))\n",
    "\n",
    "if plugin_price <=100 and plugin_price>50: \n",
    "    print('You can Buy:',plugins[0],',',plugins[1],',', plugins[2],',',plugins[3],',',plugins[4],'',plugins[5])\n",
    "    \n",
    "elif plugin_price<=50 and plugin_price>=39:\n",
    "    print('You can Buy:',plugins[1],',', plugins[2],',',plugins[3],',',plugins[4],',',plugins[5])\n",
    "    \n",
    "elif plugin_price<39 and plugin_price>26:\n",
    "    print('You can Buy:',plugins[1],',',plugins[2],',',plugins[3],',',plugins[5])    \n",
    "\n",
    "elif plugin_price<=26 and plugin_price>=21:\n",
    "    print('You can Buy:',plugins[2],',',plugins[5])\n",
    "    \n",
    "elif plugin_price<=20 and plugin_price>=19:\n",
    "    print('You can Buy:',plugins[5])      \n",
    "    \n",
    "else:\n",
    "    print('No Plugin found on your Budget')\n",
    "    \n",
    "\n",
    "    \n",
    "    "
   ]
  },
  {
   "cell_type": "code",
   "execution_count": null,
   "metadata": {},
   "outputs": [],
   "source": []
  },
  {
   "cell_type": "code",
   "execution_count": null,
   "metadata": {},
   "outputs": [],
   "source": []
  }
 ],
 "metadata": {
  "kernelspec": {
   "display_name": "Python 3",
   "language": "python",
   "name": "python3"
  },
  "language_info": {
   "codemirror_mode": {
    "name": "ipython",
    "version": 3
   },
   "file_extension": ".py",
   "mimetype": "text/x-python",
   "name": "python",
   "nbconvert_exporter": "python",
   "pygments_lexer": "ipython3",
   "version": "3.7.1"
  }
 },
 "nbformat": 4,
 "nbformat_minor": 2
}
