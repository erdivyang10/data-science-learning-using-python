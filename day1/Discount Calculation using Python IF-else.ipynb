{
 "cells": [
  {
   "cell_type": "code",
   "execution_count": 2,
   "metadata": {},
   "outputs": [
    {
     "name": "stdout",
     "output_type": "stream",
     "text": [
      "Enter the amount: 50\n",
      "Total Discount 2.5\n",
      "Please Pay: 47.5\n"
     ]
    }
   ],
   "source": [
    "#discount using a python\n",
    "\n",
    "amount = int(input(\"Enter the amount: \"))\n",
    "if amount<=1000:\n",
    "    discount = amount *0.05\n",
    "    print (\"Total Discount\", discount)\n",
    "    print (\"Please Pay:\", amount-discount)\n",
    "elif amount<=5000:\n",
    "    discount = amount *0.10\n",
    "    print (\"Total Discount\", discount)\n",
    "    print (\"Please Pay:\", amount-discount)\n",
    "elif amount>5000<6000:\n",
    "    discount = amount *0.12\n",
    "    print (\"Total Discount\", discount)\n",
    "    print (\"Please Pay:\", amount-discount)    \n",
    "    \n",
    "else:\n",
    "    amount>=6000\n",
    "    discount = amount*0.15 \n",
    "    print (\"Total Discount\", discount)\n",
    "    print (\"Please pay:\", amount-discount)\n",
    "    "
   ]
  },
  {
   "cell_type": "code",
   "execution_count": null,
   "metadata": {},
   "outputs": [],
   "source": []
  }
 ],
 "metadata": {
  "kernelspec": {
   "display_name": "Python 3",
   "language": "python",
   "name": "python3"
  },
  "language_info": {
   "codemirror_mode": {
    "name": "ipython",
    "version": 3
   },
   "file_extension": ".py",
   "mimetype": "text/x-python",
   "name": "python",
   "nbconvert_exporter": "python",
   "pygments_lexer": "ipython3",
   "version": "3.7.1"
  }
 },
 "nbformat": 4,
 "nbformat_minor": 2
}
