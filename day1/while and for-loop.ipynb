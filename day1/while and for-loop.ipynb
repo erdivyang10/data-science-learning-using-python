{
 "cells": [
  {
   "cell_type": "code",
   "execution_count": 1,
   "metadata": {},
   "outputs": [
    {
     "name": "stdout",
     "output_type": "stream",
     "text": [
      "0\n",
      "1\n",
      "2\n",
      "3\n",
      "4\n",
      "5\n",
      "6\n",
      "7\n",
      "8\n",
      "9\n",
      "10\n",
      "11\n"
     ]
    }
   ],
   "source": [
    "counter = 0\n",
    "while(counter < 12):\n",
    "    print (counter)\n",
    "    counter = counter + 1\n",
    "\n",
    "    "
   ]
  },
  {
   "cell_type": "markdown",
   "metadata": {},
   "source": [
    "    -----\n",
    "   \n",
    "    "
   ]
  },
  {
   "cell_type": "code",
   "execution_count": 2,
   "metadata": {},
   "outputs": [
    {
     "name": "stdout",
     "output_type": "stream",
     "text": [
      "[0] is red\n",
      "[1] is blue\n",
      "[2] is orange\n",
      "[3] is yellow\n",
      "[4] is black\n",
      "[5] is white\n"
     ]
    }
   ],
   "source": [
    "#for loop learning\n",
    "\n",
    "colors = ['red','blue','orange','yellow','black','white']\n",
    "for color in range(len(colors)):\n",
    "    print([color],'is',colors[color])\n",
    "    \n"
   ]
  },
  {
   "cell_type": "markdown",
   "metadata": {},
   "source": [
    "-----"
   ]
  },
  {
   "cell_type": "code",
   "execution_count": 1,
   "metadata": {},
   "outputs": [
    {
     "name": "stdout",
     "output_type": "stream",
     "text": [
      "divyang\n",
      "28\n",
      "Learning Python\n",
      "Bikaner\n",
      "India\n"
     ]
    }
   ],
   "source": [
    "#for loop practice and learning\n",
    "\n",
    "my_data = ['divyang',28,'Learning Python','Bikaner','India']\n",
    "\n",
    "#for data in range(len(my_data)):\n",
    "for data in my_data:\n",
    "    print(data)\n"
   ]
  },
  {
   "cell_type": "code",
   "execution_count": null,
   "metadata": {},
   "outputs": [],
   "source": []
  }
 ],
 "metadata": {
  "kernelspec": {
   "display_name": "Python 3",
   "language": "python",
   "name": "python3"
  },
  "language_info": {
   "codemirror_mode": {
    "name": "ipython",
    "version": 3
   },
   "file_extension": ".py",
   "mimetype": "text/x-python",
   "name": "python",
   "nbconvert_exporter": "python",
   "pygments_lexer": "ipython3",
   "version": "3.7.1"
  }
 },
 "nbformat": 4,
 "nbformat_minor": 2
}
