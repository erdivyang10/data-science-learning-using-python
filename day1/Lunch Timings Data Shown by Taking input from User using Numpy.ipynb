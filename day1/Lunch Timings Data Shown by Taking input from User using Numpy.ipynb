{
 "cells": [
  {
   "cell_type": "code",
   "execution_count": 5,
   "metadata": {},
   "outputs": [
    {
     "name": "stdout",
     "output_type": "stream",
     "text": [
      "[['Mon' '1.30']\n",
      " ['Tue' '1.45']\n",
      " ['Wed' '2.00']\n",
      " ['Thu' '2.00']\n",
      " ['Fri' '1.45']\n",
      " ['Sat' '2.00']\n",
      " ['Sun' '12.0']]\n"
     ]
    }
   ],
   "source": [
    "#calculation of daily lunch time using static method using numpy\n",
    "\n",
    "import numpy as np\n",
    "\n",
    "#create lunch time data in Flippercode\n",
    "lunch_time = ([['Mon','1.30'], ['Tue',1.45],\n",
    "               ['Wed','2.00'], ['Thu','2.00'],\n",
    "               ['Fri',1.45],['Sat','2.00'],\n",
    "               ['Sun',12.00]])\n",
    "\n",
    "#create a matrix 7 x 2\n",
    "data = np.reshape(lunch_time,(7,2))\n",
    "print(data)\n",
    "\n"
   ]
  },
  {
   "cell_type": "code",
   "execution_count": 6,
   "metadata": {},
   "outputs": [
    {
     "name": "stdout",
     "output_type": "stream",
     "text": [
      "Your Sun Lunch time is 12.0 PM\n"
     ]
    }
   ],
   "source": [
    "#accessing sunday Lunch time data\n",
    "\n",
    "week = data[6,1]\n",
    "print('Your', data[6,0], 'Lunch time is', data[6,1], 'PM')\n"
   ]
  },
  {
   "cell_type": "markdown",
   "metadata": {},
   "source": [
    "-----"
   ]
  },
  {
   "cell_type": "code",
   "execution_count": 9,
   "metadata": {},
   "outputs": [
    {
     "name": "stdout",
     "output_type": "stream",
     "text": [
      "[['Monday' '1.3']\n",
      " ['Tuesday' '1.45']\n",
      " ['Wednesday' '2.0']\n",
      " ['Thursday' '2.0']\n",
      " ['Friday' '1.45']\n",
      " ['Saturday' '2.0']\n",
      " ['Sunday' '12.0']]\n"
     ]
    }
   ],
   "source": [
    "#Now we will make the value dynamic and take the input from User\n",
    "\n",
    "import numpy as np\n",
    "\n",
    "#create lunch time data in Flippercode\n",
    "lunch_time = ([['Monday',1.30], ['Tuesday',1.45],\n",
    "               ['Wednesday',2.00], ['Thursday',2.00],\n",
    "               ['Friday',1.45],['Saturday',2.00],\n",
    "               ['Sunday',12.00]])\n",
    "\n",
    "#create a matrix\n",
    "\n",
    "mat = np.reshape(lunch_time,(7,2))\n",
    "print (mat)\n"
   ]
  },
  {
   "cell_type": "code",
   "execution_count": 10,
   "metadata": {},
   "outputs": [
    {
     "name": "stdout",
     "output_type": "stream",
     "text": [
      "Insert Week Value `(0 to 6)` 5\n",
      "Your Saturday Lunch Time is 2.0 PM\n"
     ]
    }
   ],
   "source": [
    "days = int(input('Insert Week Value `(0 to 6)` '))\n",
    "time = days\n",
    "\n",
    "\n",
    "days = mat[days,0]\n",
    "time = mat[time,1]\n",
    "\n",
    "print('Your',days,'Lunch Time is',time,'PM')\n",
    "\n",
    "\n",
    "\n"
   ]
  },
  {
   "cell_type": "code",
   "execution_count": null,
   "metadata": {},
   "outputs": [],
   "source": []
  },
  {
   "cell_type": "code",
   "execution_count": null,
   "metadata": {},
   "outputs": [],
   "source": []
  }
 ],
 "metadata": {
  "kernelspec": {
   "display_name": "Python 3",
   "language": "python",
   "name": "python3"
  },
  "language_info": {
   "codemirror_mode": {
    "name": "ipython",
    "version": 3
   },
   "file_extension": ".py",
   "mimetype": "text/x-python",
   "name": "python",
   "nbconvert_exporter": "python",
   "pygments_lexer": "ipython3",
   "version": "3.7.1"
  }
 },
 "nbformat": 4,
 "nbformat_minor": 2
}
