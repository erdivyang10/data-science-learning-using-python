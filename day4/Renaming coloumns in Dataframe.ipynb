{
 "cells": [
  {
   "cell_type": "code",
   "execution_count": 44,
   "metadata": {},
   "outputs": [],
   "source": [
    "#renaming coloumns in dataframe\n",
    "\n",
    "import pandas as pd\n",
    "\n",
    "stats = pd.read_csv('/home/flippercode/Documents/python-learning/day4/locations.csv')"
   ]
  },
  {
   "cell_type": "code",
   "execution_count": 49,
   "metadata": {},
   "outputs": [
    {
     "data": {
      "text/plain": [
       "Index(['Title', 'Address', 'Latitude', 'Longitude', 'City', 'State', 'Country',\n",
       "       'Postal Code', 'Message', 'Categories', 'fax', 'email', 'website'],\n",
       "      dtype='object')"
      ]
     },
     "execution_count": 49,
     "metadata": {},
     "output_type": "execute_result"
    }
   ],
   "source": [
    "#change the Address Field into Street\n",
    "stats.columns"
   ]
  },
  {
   "cell_type": "code",
   "execution_count": 63,
   "metadata": {},
   "outputs": [],
   "source": [
    "#CONVERTED Address Field into Street and Latitude into Lat\n",
    "\n",
    "stats.rename (columns={'Address':'Street','Latitude':'LAT'},inplace = True)"
   ]
  },
  {
   "cell_type": "code",
   "execution_count": 62,
   "metadata": {},
   "outputs": [
    {
     "data": {
      "text/html": [
       "<div>\n",
       "<style scoped>\n",
       "    .dataframe tbody tr th:only-of-type {\n",
       "        vertical-align: middle;\n",
       "    }\n",
       "\n",
       "    .dataframe tbody tr th {\n",
       "        vertical-align: top;\n",
       "    }\n",
       "\n",
       "    .dataframe thead th {\n",
       "        text-align: right;\n",
       "    }\n",
       "</style>\n",
       "<table border=\"1\" class=\"dataframe\">\n",
       "  <thead>\n",
       "    <tr style=\"text-align: right;\">\n",
       "      <th></th>\n",
       "      <th>Title</th>\n",
       "      <th>Street</th>\n",
       "      <th>LAT</th>\n",
       "      <th>Longitude</th>\n",
       "      <th>City</th>\n",
       "      <th>State</th>\n",
       "      <th>Country</th>\n",
       "      <th>Postal Code</th>\n",
       "      <th>Message</th>\n",
       "      <th>Categories</th>\n",
       "      <th>fax</th>\n",
       "      <th>email</th>\n",
       "      <th>website</th>\n",
       "    </tr>\n",
       "  </thead>\n",
       "  <tbody>\n",
       "    <tr>\n",
       "      <th>0</th>\n",
       "      <td>Zion Lutheran Church</td>\n",
       "      <td>1405 E Fallbrook St, Fallbrook, CA, United States</td>\n",
       "      <td>33.3765</td>\n",
       "      <td>-117.2300</td>\n",
       "      <td>Fallbrook</td>\n",
       "      <td>NaN</td>\n",
       "      <td>United States</td>\n",
       "      <td>92028</td>\n",
       "      <td>NaN</td>\n",
       "      <td>churches</td>\n",
       "      <td>NaN</td>\n",
       "      <td>NaN</td>\n",
       "      <td>NaN</td>\n",
       "    </tr>\n",
       "    <tr>\n",
       "      <th>1</th>\n",
       "      <td>Zion Lutheran-Avilla</td>\n",
       "      <td>300 Avilla E, Alexander, AR, United States</td>\n",
       "      <td>34.6827</td>\n",
       "      <td>-92.5824</td>\n",
       "      <td>Alexander</td>\n",
       "      <td>NaN</td>\n",
       "      <td>United States</td>\n",
       "      <td>72002</td>\n",
       "      <td>NaN</td>\n",
       "      <td>churches</td>\n",
       "      <td>NaN</td>\n",
       "      <td>NaN</td>\n",
       "      <td>NaN</td>\n",
       "    </tr>\n",
       "    <tr>\n",
       "      <th>2</th>\n",
       "      <td>Zion Mennonite Church</td>\n",
       "      <td>149 E. Cherry Ln., Souderton, PA, United States</td>\n",
       "      <td>40.3063</td>\n",
       "      <td>-75.3142</td>\n",
       "      <td>Souderton</td>\n",
       "      <td>NaN</td>\n",
       "      <td>United States</td>\n",
       "      <td>18964</td>\n",
       "      <td>NaN</td>\n",
       "      <td>churches</td>\n",
       "      <td>NaN</td>\n",
       "      <td>NaN</td>\n",
       "      <td>NaN</td>\n",
       "    </tr>\n",
       "    <tr>\n",
       "      <th>3</th>\n",
       "      <td>Zion Missionary Baptist Church</td>\n",
       "      <td>4842 Dearth Road, Springboro, OH, United States</td>\n",
       "      <td>39.5106</td>\n",
       "      <td>-84.2670</td>\n",
       "      <td>Springboro</td>\n",
       "      <td>NaN</td>\n",
       "      <td>United States</td>\n",
       "      <td>45066</td>\n",
       "      <td>NaN</td>\n",
       "      <td>churches</td>\n",
       "      <td>NaN</td>\n",
       "      <td>NaN</td>\n",
       "      <td>NaN</td>\n",
       "    </tr>\n",
       "    <tr>\n",
       "      <th>4</th>\n",
       "      <td>Zion Rest Church</td>\n",
       "      <td>2947 50th St, Valley, AL, United States</td>\n",
       "      <td>32.8235</td>\n",
       "      <td>-85.1907</td>\n",
       "      <td>Valley</td>\n",
       "      <td>NaN</td>\n",
       "      <td>United States</td>\n",
       "      <td>36854</td>\n",
       "      <td>NaN</td>\n",
       "      <td>churches</td>\n",
       "      <td>NaN</td>\n",
       "      <td>NaN</td>\n",
       "      <td>NaN</td>\n",
       "    </tr>\n",
       "  </tbody>\n",
       "</table>\n",
       "</div>"
      ],
      "text/plain": [
       "                            Title  \\\n",
       "0            Zion Lutheran Church   \n",
       "1            Zion Lutheran-Avilla   \n",
       "2           Zion Mennonite Church   \n",
       "3  Zion Missionary Baptist Church   \n",
       "4                Zion Rest Church   \n",
       "\n",
       "                                              Street      LAT  Longitude  \\\n",
       "0  1405 E Fallbrook St, Fallbrook, CA, United States  33.3765  -117.2300   \n",
       "1         300 Avilla E, Alexander, AR, United States  34.6827   -92.5824   \n",
       "2    149 E. Cherry Ln., Souderton, PA, United States  40.3063   -75.3142   \n",
       "3    4842 Dearth Road, Springboro, OH, United States  39.5106   -84.2670   \n",
       "4            2947 50th St, Valley, AL, United States  32.8235   -85.1907   \n",
       "\n",
       "         City  State        Country  Postal Code  Message Categories  fax  \\\n",
       "0   Fallbrook    NaN  United States        92028      NaN   churches  NaN   \n",
       "1   Alexander    NaN  United States        72002      NaN   churches  NaN   \n",
       "2   Souderton    NaN  United States        18964      NaN   churches  NaN   \n",
       "3  Springboro    NaN  United States        45066      NaN   churches  NaN   \n",
       "4      Valley    NaN  United States        36854      NaN   churches  NaN   \n",
       "\n",
       "  email website  \n",
       "0   NaN     NaN  \n",
       "1   NaN     NaN  \n",
       "2   NaN     NaN  \n",
       "3   NaN     NaN  \n",
       "4   NaN     NaN  "
      ]
     },
     "execution_count": 62,
     "metadata": {},
     "output_type": "execute_result"
    }
   ],
   "source": [
    "stats.head()"
   ]
  },
  {
   "cell_type": "code",
   "execution_count": null,
   "metadata": {},
   "outputs": [],
   "source": []
  },
  {
   "cell_type": "code",
   "execution_count": null,
   "metadata": {},
   "outputs": [],
   "source": []
  },
  {
   "cell_type": "code",
   "execution_count": null,
   "metadata": {},
   "outputs": [],
   "source": []
  }
 ],
 "metadata": {
  "kernelspec": {
   "display_name": "Python 3",
   "language": "python",
   "name": "python3"
  },
  "language_info": {
   "codemirror_mode": {
    "name": "ipython",
    "version": 3
   },
   "file_extension": ".py",
   "mimetype": "text/x-python",
   "name": "python",
   "nbconvert_exporter": "python",
   "pygments_lexer": "ipython3",
   "version": "3.7.1"
  }
 },
 "nbformat": 4,
 "nbformat_minor": 2
}
