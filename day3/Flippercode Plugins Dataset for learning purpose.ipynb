{
 "cells": [
  {
   "cell_type": "code",
   "execution_count": null,
   "metadata": {},
   "outputs": [],
   "source": [
    "#Lets discuss about the Data of Flippercode Plugins\n",
    "#creator: Divyang Goswami\n",
    "\n",
    "#Description: This is the testing data, there is no any relationship with the real data of the Company.\n",
    "\n",
    "import numpy as np\n",
    "\n",
    "Month = ['Jan','Feb','Mar','Apr','May','Jun','Jul','Aug','Sept','Oct','Nov','Dec']\n",
    "MDict = {'Jan': 0, 'Feb':1, 'Mar':2, 'Apr':3,'May':4,'Jun':5, 'Jul':6,'Aug':7,'Sept':8,'Oct':9,'Nov':10,'Dec':11}\n",
    "\n",
    "Plugin = ['GoogleMapsPro','UserAvatar','StoreLocator','Ecards','ReminderPro','CF7Extensions','DeliveryArea','UpdatesPro','ImageHover','SecurityQuestions','BookingPopup','GDPR']\n",
    "PDict = {'GoogleMapsPro':0,'UserAvatar':1,'StoreLocator':2,'Ecards':3,'ReminderPro':4,'CF7Extensions':5,'DeliveryArea':6,'UpdatesPro':7,'ImageHover':8,'SecurityQuestions':9,'BookingPopup':10,'GDPR':11}\n",
    "\n",
    "\n",
    "#Sales\n",
    "\n",
    "GoogleMapsPro_Sales =[110,90,120,135,94,84,60,83,88,106,114,130]\n",
    "UserAvatar_Sales = [90,50,84,120,45,36,89,130,107,78,136,98]\n",
    "StoreLocator_Sales = [40,60,62,45,58,77,42,69,89,124,53,110]\n",
    "Ecards_Sales = [100,110,95,120,65,88,97,62,78,80,95,120]\n",
    "ReminderPro_Sales = [56,32,87,95,76,68,91,54,32,51,21,48]\n",
    "CF7Extensions_Sales =[45,65,52,35,78,98,110,98,76,120,57,79] \n",
    "DeliveryArea_Sales = [110,130,120,145,98,100,89,78,88,99,75,65]\n",
    "UpdatesPro_Sales = [68,91,54,32,51,40,60,62,45,58,77,42] \n",
    "ImageHover_Sales = [65,88,97,62,78,80,45,65,52,35,78,98]\n",
    "SecurityQuestions_Sales = [45,58,77,42,69,68,91,54,76,120,57,79]\n",
    "BookingPopup_Sales = [85,88,77,52,68,84,60,83,88,106,98,75]\n",
    "GDPR_Sales = [77,42,69,89,124,53,110,69,68,91,54,76]\n",
    "\n",
    "\n",
    "Sales = np.array([GoogleMapsPro_Sales,UserAvatar_Sales,StoreLocator_Sales,Ecards_Sales,ReminderPro_Sales,CF7Extensions_Sales,DeliveryArea_Sales,UpdatesPro_Sales,ImageHover_Sales,SecurityQuestions_Sales,BookingPopup_Sales,GDPR_Sales])\n",
    "\n",
    "\n",
    "#Bugs\n",
    "\n",
    "GoogleMapsPro_Bugs = [2,1,5,3,4,2,0,1,3,2,0,0]\n",
    "UserAvatar_Bugs = [2,4,2,0,0,1,3,1,3,0,1,7]\n",
    "StoreLocator_Bugs = [1,3,4,1,0,0,9,2,4,3,1,0]\n",
    "Ecards_Bugs = [0,1,2,3,4,5,6,7,8,3,2,5,1]\n",
    "ReminderPro_Bugs = [3,1,3,0,1,7,8,5,4,1,0,0]\n",
    "CF7Extensions_Bugs = [0,1,3,2,0,4,3,8,6,4,0,0]\n",
    "DeliveryArea_Bugs = [1,0,0,9,2,4,3,1,0,4,6,2]\n",
    "UpdatesPro_Bugs = [0,0,9,2,4,3,1,0,4,2,3,4]\n",
    "ImageHover_Bugs = [1,3,0,1,7,5,4,2,3,4,1,9]\n",
    "SecurityQuestions_Bugs = [5,6,7,8,3,2,5,1,4,6,7,1]\n",
    "BookingPopup_Bugs = [0,0,9,2,4,3,1,0,8,6,4,0]\n",
    "GDPR_Bugs = [2,0,4,3,8,6,4,0,0,1,3,1]\n",
    "\n",
    "Bugs = np.array([GoogleMapsPro_Bugs,UserAvatar_Bugs,StoreLocator_Bugs,Ecards_Bugs,ReminderPro_Bugs,CF7Extensions_Bugs,DeliveryArea_Bugs,UpdatesPro_Bugs,ImageHover_Bugs,SecurityQuestions_Bugs,BookingPopup_Bugs,GDPR_Bugs])\n"
   ]
  }
 ],
 "metadata": {
  "kernelspec": {
   "display_name": "Python 3",
   "language": "python",
   "name": "python3"
  },
  "language_info": {
   "codemirror_mode": {
    "name": "ipython",
    "version": 3
   },
   "file_extension": ".py",
   "mimetype": "text/x-python",
   "name": "python",
   "nbconvert_exporter": "python",
   "pygments_lexer": "ipython3",
   "version": "3.7.1"
  }
 },
 "nbformat": 4,
 "nbformat_minor": 2
}
