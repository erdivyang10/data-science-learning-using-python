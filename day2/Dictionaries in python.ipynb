{
 "cells": [
  {
   "cell_type": "code",
   "execution_count": 14,
   "metadata": {},
   "outputs": [],
   "source": [
    "#dictionaries in the python\n",
    "\n",
    "mycar = {\"brand\": \"Maruti Suzuki\",\n",
    "         \"model\": \"Wagon R\",\n",
    "         \"color\":\"Blue\",\n",
    "         \"Year\": 2010\n",
    "        \n",
    "        }"
   ]
  },
  {
   "cell_type": "code",
   "execution_count": 21,
   "metadata": {},
   "outputs": [],
   "source": [
    "#add a new content in Dictionary\n",
    "mycar[\"Roof Rail\"] = True\n",
    "mycar[\"Automatic Gear\"] = True\n"
   ]
  },
  {
   "cell_type": "code",
   "execution_count": 16,
   "metadata": {},
   "outputs": [
    {
     "data": {
      "text/plain": [
       "{'brand': 'Maruti Suzuki',\n",
       " 'model': 'Wagon R',\n",
       " 'color': 'Blue',\n",
       " 'Year': 2010,\n",
       " 'Roof Rail': True,\n",
       " 'Automatic Gear': True}"
      ]
     },
     "execution_count": 16,
     "metadata": {},
     "output_type": "execute_result"
    }
   ],
   "source": [
    "mycar"
   ]
  },
  {
   "cell_type": "code",
   "execution_count": 17,
   "metadata": {},
   "outputs": [
    {
     "data": {
      "text/plain": [
       "True"
      ]
     },
     "execution_count": 17,
     "metadata": {},
     "output_type": "execute_result"
    }
   ],
   "source": [
    "#remove the item from disctionary\n",
    "mycar.pop(\"Automatic Gear\")"
   ]
  },
  {
   "cell_type": "code",
   "execution_count": 18,
   "metadata": {},
   "outputs": [
    {
     "data": {
      "text/plain": [
       "{'brand': 'Maruti Suzuki',\n",
       " 'model': 'Wagon R',\n",
       " 'color': 'Blue',\n",
       " 'Year': 2010,\n",
       " 'Roof Rail': True}"
      ]
     },
     "execution_count": 18,
     "metadata": {},
     "output_type": "execute_result"
    }
   ],
   "source": [
    "mycar"
   ]
  },
  {
   "cell_type": "code",
   "execution_count": 19,
   "metadata": {},
   "outputs": [],
   "source": [
    "#change the color\n",
    "mycar[\"color\"] = 'Red'"
   ]
  },
  {
   "cell_type": "code",
   "execution_count": 20,
   "metadata": {},
   "outputs": [
    {
     "data": {
      "text/plain": [
       "{'brand': 'Maruti Suzuki',\n",
       " 'model': 'Wagon R',\n",
       " 'color': 'Red',\n",
       " 'Year': 2010,\n",
       " 'Roof Rail': True}"
      ]
     },
     "execution_count": 20,
     "metadata": {},
     "output_type": "execute_result"
    }
   ],
   "source": [
    "mycar"
   ]
  },
  {
   "cell_type": "code",
   "execution_count": 22,
   "metadata": {},
   "outputs": [
    {
     "name": "stdout",
     "output_type": "stream",
     "text": [
      "{'brand': 'Maruti Suzuki', 'model': 'Wagon R', 'color': 'Red', 'Year': 2010, 'Roof Rail': True, 'Automatic Gear': True}\n"
     ]
    }
   ],
   "source": [
    "print(mycar)"
   ]
  },
  {
   "cell_type": "code",
   "execution_count": 23,
   "metadata": {},
   "outputs": [
    {
     "data": {
      "text/plain": [
       "6"
      ]
     },
     "execution_count": 23,
     "metadata": {},
     "output_type": "execute_result"
    }
   ],
   "source": [
    "len(mycar)"
   ]
  },
  {
   "cell_type": "code",
   "execution_count": 24,
   "metadata": {},
   "outputs": [
    {
     "name": "stdout",
     "output_type": "stream",
     "text": [
      "6\n"
     ]
    }
   ],
   "source": [
    "print(len(mycar))"
   ]
  },
  {
   "cell_type": "code",
   "execution_count": 25,
   "metadata": {},
   "outputs": [
    {
     "data": {
      "text/plain": [
       "{'brand': 'Maruti Suzuki',\n",
       " 'model': 'Wagon R',\n",
       " 'color': 'Red',\n",
       " 'Year': 2010,\n",
       " 'Roof Rail': True,\n",
       " 'Automatic Gear': True}"
      ]
     },
     "execution_count": 25,
     "metadata": {},
     "output_type": "execute_result"
    }
   ],
   "source": [
    "mycar"
   ]
  },
  {
   "cell_type": "code",
   "execution_count": 32,
   "metadata": {},
   "outputs": [
    {
     "name": "stdout",
     "output_type": "stream",
     "text": [
      "NOT Available\n"
     ]
    }
   ],
   "source": [
    "if \"Roof Rails\" in mycar:\n",
    "    print('Yes, This is available')\n",
    "else:\n",
    "    print (\"NOT Available\")"
   ]
  },
  {
   "cell_type": "code",
   "execution_count": null,
   "metadata": {},
   "outputs": [],
   "source": []
  }
 ],
 "metadata": {
  "kernelspec": {
   "display_name": "Python 3",
   "language": "python",
   "name": "python3"
  },
  "language_info": {
   "codemirror_mode": {
    "name": "ipython",
    "version": 3
   },
   "file_extension": ".py",
   "mimetype": "text/x-python",
   "name": "python",
   "nbconvert_exporter": "python",
   "pygments_lexer": "ipython3",
   "version": "3.7.1"
  }
 },
 "nbformat": 4,
 "nbformat_minor": 2
}
